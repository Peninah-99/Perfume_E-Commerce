{
 "cells": [
  {
   "cell_type": "markdown",
   "id": "0b28c996-366d-4d1b-85c9-343c9d0f8917",
   "metadata": {},
   "source": [
    "## Perfume E-Commerce Dataset – Exploratory and Descriptive Analysis\n",
    "\n",
    "This analysis explores a perfume e-commerce dataset containing information on product types, brands, sales, stock availability, and customer demographics. The goal is to better understand sales patterns, popular brands, and customer preferences by gender and location. Through data cleaning, aggregation, and visualization, we aim to uncover key insights that can help guide business decisions and marketing strategies.\n"
   ]
  },
  {
   "cell_type": "markdown",
   "id": "647b3743-783c-4da4-8e0a-5f6ec169eadd",
   "metadata": {},
   "source": [
    "## Import Required Libraries for Analysis\n",
    "\n",
    "We import essential Python libraries for data analysis and visualization:\n",
    "\n",
    "Key considerations here are:\n",
    "\n",
    "* `os` is used for handling file paths and directory operations, ensuring cross-platform compatibility.\n",
    "* `pandas` is a powerful data manipulation library used to load, clean, and analyze structured data.\n",
    "* `plotly.express` is a high-level visualization library that allows for creating interactive and insightful plots with minimal code.\n",
    "\n",
    "These imports lay the groundwork for performing efficient data analysis and creating visual representations of insights from the dataset.\n"
   ]
  },
  {
   "cell_type": "code",
   "execution_count": 1,
   "id": "cb476ea4-9bf6-4e18-9c46-c96fc1009d46",
   "metadata": {},
   "outputs": [],
   "source": [
    "import os\n",
    "import pandas as pd\n",
    "import plotly.express as px"
   ]
  },
  {
   "cell_type": "markdown",
   "id": "197b50f3-8648-4aad-8ac1-554c0ce7835f",
   "metadata": {},
   "source": [
    "## Load the Cleaned Perfume Dataset\n",
    "\n",
    "We define the path to the cleaned data file and load it into a DataFrame for analysis.\n",
    "\n",
    "Key considerations here are:\n",
    "\n",
    "* `processed_dir` specifies the directory where processed (cleaned) data is stored.\n",
    "* `os.path.join()` constructs a platform-independent path to the cleaned dataset.\n",
    "* `pd.read_csv()` loads the `cleaned_perfume_data.csv` file into a DataFrame named `combined_df`.\n",
    "* This step is crucial for beginning analysis on a refined version of the dataset, free from issues like missing or inconsistent data.\n"
   ]
  },
  {
   "cell_type": "code",
   "execution_count": 2,
   "id": "f43296cb-126f-43da-8eac-f3ff2a0c947c",
   "metadata": {},
   "outputs": [],
   "source": [
    "# Define the directory and file path (same as where you saved the file)\n",
    "processed_dir = r'C:\\Users\\USER\\Downloads\\Perfume_E-Commerce\\data\\processed'\n",
    "final_file = os.path.join(processed_dir, 'cleaned_perfume_data.csv')\n",
    "\n",
    "# Load the cleaned perfume dataset\n",
    "combined_df = pd.read_csv(final_file)"
   ]
  },
  {
   "cell_type": "code",
   "execution_count": 3,
   "id": "e343dea5-abd2-4386-8113-7fe7adf10a63",
   "metadata": {},
   "outputs": [],
   "source": [
    "combined_df['location'] = combined_df['location'].str.strip()"
   ]
  },
  {
   "cell_type": "markdown",
   "id": "def4330c-f24c-45cd-bca2-3083a71d2e47",
   "metadata": {},
   "source": [
    "## Stock Available by Type\n",
    "\n",
    "### Visualize Top 5 Perfume Types by Stock Availability\n",
    "\n",
    "We analyze and visualize the top 5 perfume types based on available stock using an interactive bar chart.\n",
    "\n",
    "Key considerations here are:\n",
    "\n",
    "* **Directory Setup**:\n",
    "  `results_dir` is defined to store output visuals, and `os.makedirs()` ensures the folder exists.\n",
    "\n",
    "* **Data Aggregation**:\n",
    "  We group the data by `cleaned_type` and sum the `available` stock for each type, then sort it in descending order to select the top 5.\n",
    "\n",
    "* **Label Formatting**:\n",
    "  `available_text` is created to display stock values with thousand separators for better readability on the chart.\n",
    "\n",
    "* **Visualization with Plotly**:\n",
    "  We use `plotly.express.bar()` to plot the top 5 types with:\n",
    "\n",
    "  * A consistent color for clarity.\n",
    "  * Data labels positioned outside bars.\n",
    "  * A clean layout with no grid or tick marks to emphasize data.\n",
    "\n",
    "* **Exporting the Plot**:\n",
    "  The final chart is saved as both `.jpg` and `.png` image formats, as well as an interactive `.html` file, allowing flexible use for reports or web integration.\n",
    "\n",
    "This process transforms aggregated stock data into a clear, professional visualization for quick insights into the most stocked perfume types.\n"
   ]
  },
  {
   "cell_type": "code",
   "execution_count": 5,
   "id": "54a9d738-54a9-4237-9b14-03d2c51616a5",
   "metadata": {},
   "outputs": [
    {
     "data": {
      "application/vnd.plotly.v1+json": {
       "config": {
        "plotlyServerURL": "https://plot.ly"
       },
       "data": [
        {
         "cliponaxis": false,
         "hovertemplate": "cleaned_type=%{x}<br>available=%{y}<br>available_text=%{text}<extra></extra>",
         "legendgroup": "",
         "marker": {
          "color": "#1f77b4",
          "pattern": {
           "shape": ""
          }
         },
         "name": "",
         "orientation": "v",
         "showlegend": false,
         "text": [
          "16,792.0",
          "14,703.0",
          "1,753.0",
          "1,231.0",
          "472.0"
         ],
         "textposition": "outside",
         "type": "bar",
         "x": [
          "eau de toilette",
          "eau de parfum",
          "eau de cologne",
          "unknown",
          "body product"
         ],
         "xaxis": "x",
         "y": {
          "_inputArray": {
           "0": 16792,
           "1": 14703,
           "2": 1753,
           "3": 1231,
           "4": 472,
           "bdata": "AAAAAABm0EAAAAAAgLfMQAAAAAAAZJtAAAAAAAA8k0AAAAAAAIB9QA==",
           "dtype": "f8",
           "shape": "5"
          },
          "bdata": "AAAAAABm0EAAAAAAgLfMQAAAAAAAZJtAAAAAAAA8k0AAAAAAAIB9QA==",
          "dtype": "f8"
         },
         "yaxis": "y"
        }
       ],
       "layout": {
        "autosize": true,
        "barmode": "relative",
        "legend": {
         "tracegroupgap": 0
        },
        "paper_bgcolor": "rgb(0, 0, 0)",
        "plot_bgcolor": "rgb(0, 0, 0)",
        "template": {
         "data": {
          "pie": [
           {
            "automargin": true,
            "type": "pie"
           }
          ],
          "scatter": [
           {
            "line": {
             "width": 3
            },
            "marker": {
             "size": 9
            },
            "type": "scatter"
           }
          ],
          "scatter3d": [
           {
            "line": {
             "width": 3
            },
            "marker": {
             "size": 9
            },
            "type": "scatter3d"
           }
          ],
          "scattergeo": [
           {
            "line": {
             "width": 3
            },
            "marker": {
             "size": 9
            },
            "type": "scattergeo"
           }
          ],
          "scattergl": [
           {
            "line": {
             "width": 3
            },
            "marker": {
             "size": 9
            },
            "type": "scattergl"
           }
          ],
          "scatterpolar": [
           {
            "line": {
             "width": 3
            },
            "marker": {
             "size": 9
            },
            "type": "scatterpolar"
           }
          ],
          "scatterpolargl": [
           {
            "line": {
             "width": 3
            },
            "marker": {
             "size": 9
            },
            "type": "scatterpolargl"
           }
          ],
          "scatterternary": [
           {
            "line": {
             "width": 3
            },
            "marker": {
             "size": 9
            },
            "type": "scatterternary"
           }
          ],
          "table": [
           {
            "cells": {
             "height": 30
            },
            "header": {
             "height": 36
            },
            "type": "table"
           }
          ]
         },
         "layout": {
          "font": {
           "size": 18
          },
          "xaxis": {
           "title": {
            "standoff": 15
           }
          },
          "yaxis": {
           "title": {
            "standoff": 15
           }
          }
         }
        },
        "title": {
         "text": "Top 5 Stock Available by Type"
        },
        "xaxis": {
         "anchor": "y",
         "autorange": true,
         "categoryorder": "total descending",
         "domain": [
          0,
          1
         ],
         "range": [
          -0.5,
          4.5
         ],
         "title": {
          "text": "cleaned_type"
         },
         "type": "category"
        },
        "yaxis": {
         "anchor": "x",
         "autorange": true,
         "domain": [
          0,
          1
         ],
         "range": [
          0,
          17675.78947368421
         ],
         "showgrid": false,
         "showline": false,
         "showticklabels": false,
         "title": {
          "text": "Available Units"
         },
         "type": "linear"
        }
       }
      },
      "image/png": "[encoded data removed]"
     },
     "metadata": {},
     "output_type": "display_data"
    }
   ],
   "source": [
    "# Set results directory\n",
    "results_dir = r'C:\\Users\\USER\\Downloads\\Perfume_E-Commerce\\result'\n",
    "os.makedirs(results_dir, exist_ok=True)\n",
    "\n",
    "# Group and sum available stock by type\n",
    "type_stock = combined_df.groupby('cleaned_type')['available'].sum().reset_index()\n",
    "\n",
    "# Sort descending and take top 5\n",
    "top5_type_stock = type_stock.sort_values(by='available', ascending=False).head(5)\n",
    "\n",
    "# Create formatted labels with thousand separators\n",
    "top5_type_stock['available_text'] = top5_type_stock['available'].apply(lambda x: f\"{x:,}\")\n",
    "\n",
    "# Plot top 5 with same color and formatted data labels\n",
    "fig1 = px.bar(\n",
    "    top5_type_stock,\n",
    "    x='cleaned_type',\n",
    "    y='available',\n",
    "    text='available_text',\n",
    "    title='Top 5 Stock Available by Type',\n",
    "    color_discrete_sequence=['#1f77b4']\n",
    ")\n",
    "\n",
    "# Data labels and layout tweaks\n",
    "fig1.update_traces(textposition='outside', cliponaxis=False)\n",
    "\n",
    "fig1.update_layout(\n",
    "    template='presentation',\n",
    "    paper_bgcolor='rgb(0, 0, 0)',\n",
    "    plot_bgcolor='rgb(0, 0, 0)',\n",
    "    xaxis={'categoryorder': 'total descending'},\n",
    "    yaxis=dict(\n",
    "        showline=False,\n",
    "        showticklabels=False,\n",
    "        \n",
    "        showgrid=False,\n",
    "        title='Available Units'\n",
    "    )\n",
    ")\n",
    "\n",
    "# Display the figure\n",
    "fig1.show()\n",
    "\n",
    "# Export to image and HTML\n",
    "fig1.write_image(os.path.join(results_dir, 'top5_stock_available_by_type.jpg'))\n",
    "fig1.write_image(os.path.join(results_dir, 'top5_stock_available_by_type.png'))\n",
    "fig1.write_html(os.path.join(results_dir, 'top5_stock_available_by_type.html'))"
   ]
  },
  {
   "cell_type": "markdown",
   "id": "30a171dd-22ae-4aa7-8387-4c018d6f0c18",
   "metadata": {},
   "source": [
    "## Units Sold by Brand\n",
    "-\r\n",
    "# \n",
    "## Visualize Top 10 Brands by Units Sold\r\n",
    "\r\n",
    "We analyze and visualize the top 10 perfume brands based on the total units sold using a customized bar chart.\r\n",
    "\r\n",
    "Key considerations here are:\r\n",
    "\r\n",
    "* **Data Aggregation**:\r\n",
    "  We group the dataset by `brand_cleaned` and calculate the total units sold for each brand using `groupby()` and `sum()`.\r\n",
    "\r\n",
    "* **Sorting and Selection**:\r\n",
    "  The grouped data is sorted in descending order by sales, and the top 10 brands are selected for visualization.\r\n",
    "\r\n",
    "* **Label Formatting**:\r\n",
    "  A new column `sold_text` is added to format sales figures with thousand separators, enhancing readability on the plot.\r\n",
    "\r\n",
    "* **Bar Chart Visualization**:\r\n",
    "  We use `plotly.express.bar()` to create an interactive chart:\r\n",
    "\r\n",
    "  * Consistent color is used for visual clarity.\r\n",
    "  * Labels are displayed above each bar for immediate insight.\r\n",
    "  * The chart layout is styled with a dark theme and a clean presentation format.\r\n",
    "\r\n",
    "* **Axis Customization**:\r\n",
    "  X-axis labels (brands) are set to display horizontally with a defined font size. Y-axis gridlines and ticks are hidden for a minimalist look.\r\n",
    "\r\n",
    "* **Exporting the Visualization**:\r\n",
    "  The final chart is saved as `.jpg`, `.png`, and `.html` formats, making it accessible for both offline and interactive usage.\r\n",
    "\r\n",
    "This step provides a clear and impactful visual summary of the highest-selling perfume brands, supporting data-driven decisions and presentations.\r\n"
   ]
  },
  {
   "cell_type": "code",
   "execution_count": 7,
   "id": "a80747bc-3eda-45e3-887d-1eb7dcd469e5",
   "metadata": {},
   "outputs": [
    {
     "data": {
      "application/vnd.plotly.v1+json": {
       "config": {
        "plotlyServerURL": "https://plot.ly"
       },
       "data": [
        {
         "cliponaxis": false,
         "hovertemplate": "brand_cleaned=%{x}<br>sold=%{y}<br>sold_text=%{text}<extra></extra>",
         "legendgroup": "",
         "marker": {
          "color": "#1f77b4",
          "pattern": {
           "shape": ""
          }
         },
         "name": "",
         "orientation": "v",
         "showlegend": false,
         "text": [
          "151,522.0",
          "68,388.0",
          "25,686.0",
          "25,166.0",
          "22,115.0",
          "19,994.0",
          "13,337.0",
          "13,066.0",
          "13,062.0",
          "12,890.0"
         ],
         "textposition": "outside",
         "type": "bar",
         "x": [
          "Unbranded",
          "Versace",
          "Calvin Klein",
          "Burberry",
          "Ralph Lauren",
          "Armaf",
          "Paco Rabanne",
          "Carolina Herrera",
          "Coach",
          "Juicy Couture"
         ],
         "xaxis": "x",
         "y": {
          "_inputArray": {
           "0": 151522,
           "1": 68388,
           "2": 25686,
           "3": 25166,
           "4": 22115,
           "5": 19994,
           "6": 13337,
           "7": 13066,
           "8": 13062,
           "9": 12890,
           "bdata": "AAAAABB/AkEAAAAAQLLwQAAAAACAFdlAAAAAAICT2EAAAAAAwJjVQAAAAACAhtNAAAAAAIAMykAAAAAAAIXJQAAAAAAAg8lAAAAAAAAtyUA=",
           "dtype": "f8",
           "shape": "10"
          },
          "bdata": "AAAAABB/AkEAAAAAQLLwQAAAAACAFdlAAAAAAICT2EAAAAAAwJjVQAAAAACAhtNAAAAAAIAMykAAAAAAAIXJQAAAAAAAg8lAAAAAAAAtyUA=",
          "dtype": "f8"
         },
         "yaxis": "y"
        }
       ],
       "layout": {
        "barmode": "relative",
        "height": 500,
        "legend": {
         "tracegroupgap": 0
        },
        "paper_bgcolor": "rgb(0, 0, 0)",
        "plot_bgcolor": "rgb(0, 0, 0)",
        "template": {
         "data": {
          "pie": [
           {
            "automargin": true,
            "type": "pie"
           }
          ],
          "scatter": [
           {
            "line": {
             "width": 3
            },
            "marker": {
             "size": 9
            },
            "type": "scatter"
           }
          ],
          "scatter3d": [
           {
            "line": {
             "width": 3
            },
            "marker": {
             "size": 9
            },
            "type": "scatter3d"
           }
          ],
          "scattergeo": [
           {
            "line": {
             "width": 3
            },
            "marker": {
             "size": 9
            },
            "type": "scattergeo"
           }
          ],
          "scattergl": [
           {
            "line": {
             "width": 3
            },
            "marker": {
             "size": 9
            },
            "type": "scattergl"
           }
          ],
          "scatterpolar": [
           {
            "line": {
             "width": 3
            },
            "marker": {
             "size": 9
            },
            "type": "scatterpolar"
           }
          ],
          "scatterpolargl": [
           {
            "line": {
             "width": 3
            },
            "marker": {
             "size": 9
            },
            "type": "scatterpolargl"
           }
          ],
          "scatterternary": [
           {
            "line": {
             "width": 3
            },
            "marker": {
             "size": 9
            },
            "type": "scatterternary"
           }
          ],
          "table": [
           {
            "cells": {
             "height": 30
            },
            "header": {
             "height": 36
            },
            "type": "table"
           }
          ]
         },
         "layout": {
          "font": {
           "size": 18
          },
          "xaxis": {
           "title": {
            "standoff": 15
           }
          },
          "yaxis": {
           "title": {
            "standoff": 15
           }
          }
         }
        },
        "title": {
         "text": "Top 10 Brands by Units Sold"
        },
        "width": 1000,
        "xaxis": {
         "anchor": "y",
         "autorange": true,
         "categoryorder": "total descending",
         "domain": [
          0,
          1
         ],
         "range": [
          -0.5,
          9.5
         ],
         "tickangle": 0,
         "tickfont": {
          "size": 12
         },
         "title": {
          "text": "Brand"
         },
         "type": "category"
        },
        "yaxis": {
         "anchor": "x",
         "autorange": true,
         "domain": [
          0,
          1
         ],
         "range": [
          0,
          159496.84210526315
         ],
         "showgrid": false,
         "showline": false,
         "showticklabels": false,
         "title": {
          "text": "Units Sold"
         },
         "type": "linear"
        }
       }
      },
      "image/png": "[encoded data removed]"
     },
     "metadata": {},
     "output_type": "display_data"
    }
   ],
   "source": [
    "# Group and sum sold units by brand\n",
    "brand_sold = combined_df.groupby('brand_cleaned')['sold'].sum().reset_index()\n",
    "\n",
    "# Sort descending and take top 10\n",
    "top10_brand_cleaned = brand_sold.sort_values(by='sold', ascending=False).head(10)\n",
    "\n",
    "# Create formatted labels with thousand separators\n",
    "top10_brand_cleaned['sold_text'] = top10_brand_cleaned['sold'].apply(lambda x: f\"{x:,}\")\n",
    "\n",
    "# Plot top 10 brands with same color and formatted data labels\n",
    "fig2 = px.bar(\n",
    "    top10_brand_cleaned,\n",
    "    x='brand_cleaned',\n",
    "    y='sold',\n",
    "    text='sold_text',\n",
    "    title='Top 10 Brands by Units Sold',\n",
    "    color_discrete_sequence=['#1f77b4']\n",
    ")\n",
    "\n",
    "# Show data labels above bars\n",
    "fig2.update_traces(textposition='outside', cliponaxis=False)\n",
    "\n",
    "# Style layout with dark theme, order bars descending\n",
    "fig2.update_layout(\n",
    "    template='presentation',\n",
    "    paper_bgcolor='rgb(0, 0, 0)',\n",
    "    plot_bgcolor='rgb(0, 0, 0)',\n",
    "    height=500,\n",
    "    width=1000,\n",
    "    xaxis_tickangle=0,\n",
    "    xaxis=dict(\n",
    "        categoryorder='total descending',\n",
    "        title='Brand',\n",
    "        tickfont=dict(size=12)\n",
    "    ),\n",
    "    yaxis=dict(\n",
    "        showline=False,\n",
    "        showticklabels=False,\n",
    "        showgrid=False,\n",
    "        title='Units Sold'\n",
    "    )\n",
    ")\n",
    "\n",
    "fig2.show()\n",
    "\n",
    "# Export chart files\n",
    "fig2.write_image(os.path.join(results_dir, 'top10_brands_by_units_sold.jpg'))\n",
    "fig2.write_image(os.path.join(results_dir, 'top10_brands_by_units_sold.png'))\n",
    "fig2.write_html(os.path.join(results_dir, 'top10_brands_by_units_sold.html'))"
   ]
  },
  {
   "cell_type": "markdown",
   "id": "47098277-9ffb-475f-8c69-d889ab528285",
   "metadata": {},
   "source": [
    "## Visualize Top 5 Locations by Units Sold\n",
    "\n",
    "We generate a bar chart showing the top 5 geographic locations with the highest number of units sold.\n",
    "\n",
    "Key considerations here are:\n",
    "\n",
    "* **Data Aggregation**:\n",
    "  We group the dataset by `location` and calculate the total `sold` units for each, enabling geographic analysis of sales performance.\n",
    "\n",
    "* **Sorting and Selection**:\n",
    "  After sorting by total sales in descending order, we select the top 5 locations with the highest sales.\n",
    "\n",
    "* **Label Formatting**:\n",
    "  The `sold_text` column (optional) is added to format the numbers with commas for improved readability.\n",
    "\n",
    "* **Visualization with Plotly**:\n",
    "  Using `plotly.express.bar()`, we create a bar chart:\n",
    "\n",
    "  * Displays the top-selling locations clearly.\n",
    "  * Uses a consistent color for simplicity and focus.\n",
    "  * Text labels are displayed above each bar to highlight values.\n",
    "\n",
    "* **Layout Customization**:\n",
    "  A dark theme is applied with specific figure dimensions. X-axis and Y-axis titles enhance clarity, and the plot is styled for clean presentation.\n",
    "\n",
    "* **Exporting the Chart**:\n",
    "  The chart is exported in `.jpg`, `.png`, and `.html` formats, ensuring it can be used in both interactive and static environments like reports or dashboards.\n",
    "\n",
    "This step helps identify where the highest sales volumes are occurring geographically, aiding in location-based marketing or inventory decisions.\n"
   ]
  },
  {
   "cell_type": "code",
   "execution_count": 12,
   "id": "9ab6b660-0441-44d5-a6a0-ab9aa5010b1d",
   "metadata": {},
   "outputs": [
    {
     "data": {
      "application/vnd.plotly.v1+json": {
       "config": {
        "plotlyServerURL": "https://plot.ly"
       },
       "data": [
        {
         "hovertemplate": "location=%{x}<br>sold=%{text}<extra></extra>",
         "legendgroup": "",
         "marker": {
          "color": "#1f77b4",
          "pattern": {
           "shape": ""
          }
         },
         "name": "",
         "orientation": "v",
         "showlegend": false,
         "text": {
          "_inputArray": {
           "0": 759538,
           "1": 3305,
           "2": 878,
           "3": 792,
           "4": 453,
           "bdata": "AAAAAOQtJ0EAAAAAANKpQAAAAAAAcItAAAAAAADAiEAAAAAAAFB8QA==",
           "dtype": "f8",
           "shape": "5"
          },
          "bdata": "AAAAAOQtJ0EAAAAAANKpQAAAAAAAcItAAAAAAADAiEAAAAAAAFB8QA==",
          "dtype": "f8"
         },
         "textposition": "auto",
         "type": "bar",
         "x": [
          "united states",
          "hong kong",
          "china",
          "canada",
          "india"
         ],
         "xaxis": "x",
         "y": {
          "_inputArray": {
           "0": 759538,
           "1": 3305,
           "2": 878,
           "3": 792,
           "4": 453,
           "bdata": "AAAAAOQtJ0EAAAAAANKpQAAAAAAAcItAAAAAAADAiEAAAAAAAFB8QA==",
           "dtype": "f8",
           "shape": "5"
          },
          "bdata": "AAAAAOQtJ0EAAAAAANKpQAAAAAAAcItAAAAAAADAiEAAAAAAAFB8QA==",
          "dtype": "f8"
         },
         "yaxis": "y"
        }
       ],
       "layout": {
        "barmode": "relative",
        "height": 500,
        "legend": {
         "tracegroupgap": 0
        },
        "paper_bgcolor": "rgb(0, 0, 0)",
        "plot_bgcolor": "rgb(0, 0, 0)",
        "template": {
         "data": {
          "pie": [
           {
            "automargin": true,
            "type": "pie"
           }
          ],
          "scatter": [
           {
            "line": {
             "width": 3
            },
            "marker": {
             "size": 9
            },
            "type": "scatter"
           }
          ],
          "scatter3d": [
           {
            "line": {
             "width": 3
            },
            "marker": {
             "size": 9
            },
            "type": "scatter3d"
           }
          ],
          "scattergeo": [
           {
            "line": {
             "width": 3
            },
            "marker": {
             "size": 9
            },
            "type": "scattergeo"
           }
          ],
          "scattergl": [
           {
            "line": {
             "width": 3
            },
            "marker": {
             "size": 9
            },
            "type": "scattergl"
           }
          ],
          "scatterpolar": [
           {
            "line": {
             "width": 3
            },
            "marker": {
             "size": 9
            },
            "type": "scatterpolar"
           }
          ],
          "scatterpolargl": [
           {
            "line": {
             "width": 3
            },
            "marker": {
             "size": 9
            },
            "type": "scatterpolargl"
           }
          ],
          "scatterternary": [
           {
            "line": {
             "width": 3
            },
            "marker": {
             "size": 9
            },
            "type": "scatterternary"
           }
          ],
          "table": [
           {
            "cells": {
             "height": 30
            },
            "header": {
             "height": 36
            },
            "type": "table"
           }
          ]
         },
         "layout": {
          "font": {
           "size": 18
          },
          "xaxis": {
           "title": {
            "standoff": 15
           }
          },
          "yaxis": {
           "title": {
            "standoff": 15
           }
          }
         }
        },
        "title": {
         "text": "Top 5 Locations by Units Sold"
        },
        "width": 1000,
        "xaxis": {
         "anchor": "y",
         "autorange": true,
         "domain": [
          0,
          1
         ],
         "range": [
          -0.5,
          4.5
         ],
         "tickangle": 0,
         "title": {
          "text": "Location"
         },
         "type": "category"
        },
        "yaxis": {
         "anchor": "x",
         "autorange": true,
         "domain": [
          0,
          1
         ],
         "range": [
          0,
          799513.6842105263
         ],
         "showticklabels": false,
         "title": {
          "text": "Units Sold"
         },
         "type": "linear"
        }
       }
      },
      "image/png": "[encoded data removed]"
     },
     "metadata": {},
     "output_type": "display_data"
    }
   ],
   "source": [
    "# Group and sum sold units by location\n",
    "location_sold = combined_df.groupby('location')['sold'].sum().reset_index()\n",
    "\n",
    "# Sort descending and take top 5\n",
    "top5_location_sold = location_sold.sort_values(by='sold', ascending=False).head(5)\n",
    "\n",
    "# (Optional) Format sold numbers with commas\n",
    "top5_location_sold['sold_text'] = top5_location_sold['sold'].apply(lambda x: f\"{x:,}\")\n",
    "\n",
    "# Create the figure\n",
    "fig3 = px.bar(\n",
    "    top5_location_sold,\n",
    "    x='location',\n",
    "    y='sold',\n",
    "    title='Top 5 Locations by Units Sold',\n",
    "    color_discrete_sequence=['#1f77b4'],\n",
    "    text='sold'\n",
    ")\n",
    "\n",
    "# Customize layout (optional)\n",
    "fig3.update_layout(\n",
    "    template='presentation',\n",
    "    paper_bgcolor='rgb(0, 0, 0)',\n",
    "    plot_bgcolor='rgb(0, 0, 0)',\n",
    "    height=500,\n",
    "    width=1000,\n",
    "    xaxis=dict(tickangle=0, title='Location'),\n",
    "    yaxis=dict(showticklabels=False, title='Units Sold')\n",
    ")\n",
    "\n",
    "# Show the figure\n",
    "fig3.show()\n",
    "\n",
    "# Export files\n",
    "results_dir = r\"C:\\Users\\USER\\Downloads\\Perfume_E-Commerce\\result\"\n",
    "os.makedirs(results_dir, exist_ok=True)\n",
    "\n",
    "fig3.write_image(os.path.join(results_dir, 'top5_locations_by_units_sold.jpg'))\n",
    "fig3.write_image(os.path.join(results_dir, 'top5_locations_by_units_sold.png'))\n",
    "fig3.write_html(os.path.join(results_dir, 'top5_locations_by_units_sold.html'))"
   ]
  },
  {
   "cell_type": "markdown",
   "id": "d497a4ca-53b3-40a7-bc00-f0467864ede0",
   "metadata": {},
   "source": [
    "## Visualize Units Sold by Gender\n",
    "\n",
    "We create a pie chart to illustrate the distribution of total units sold across different customer genders.\n",
    "\n",
    "Key considerations here are:\n",
    "\n",
    "* **Data Aggregation**:\n",
    "  We group the data by the `gender` column and sum the `sold` units to determine total sales by gender category.\n",
    "\n",
    "* **Pie Chart Visualization**:\n",
    "  Using `plotly.express.pie()`, we generate a chart that:\n",
    "\n",
    "  * Clearly compares sales volume between genders.\n",
    "  * Uses a custom color palette (`#1f77b4` for one gender and `#FFD700` for the other) to distinguish categories visually.\n",
    "\n",
    "* **Layout Customization**:\n",
    "  The chart adopts a dark theme with fixed dimensions for consistency with previous visualizations.\n",
    "\n",
    "* **Enhanced Data Labels**:\n",
    "  Labels on each pie slice display the gender, percentage of total sales, and absolute values to provide a comprehensive view at a glance.\n",
    "\n",
    "* **Exporting the Chart**:\n",
    "  The chart is saved in `.jpg`, `.png`, and `.html` formats for flexible use in reports, presentations, or web applications.\n",
    "\n",
    "This visualization provides a quick and intuitive understanding of gender-based sales trends, supporting decisions related to marketing segmentation and product targeting.\n"
   ]
  },
  {
   "cell_type": "code",
   "execution_count": 14,
   "id": "19a1c0bd-db51-4673-a6a5-e211054d7b7e",
   "metadata": {},
   "outputs": [
    {
     "data": {
      "application/vnd.plotly.v1+json": {
       "config": {
        "plotlyServerURL": "https://plot.ly"
       },
       "data": [
        {
         "customdata": [
          [
           "female"
          ],
          [
           "male"
          ]
         ],
         "domain": {
          "x": [
           0,
           1
          ],
          "y": [
           0,
           1
          ]
         },
         "hovertemplate": "gender=%{customdata[0]}<br>sold=%{value}<extra></extra>",
         "labels": [
          "female",
          "male"
         ],
         "legendgroup": "",
         "marker": {
          "colors": [
           "#1f77b4",
           "#FFD700"
          ]
         },
         "name": "",
         "showlegend": true,
         "textfont": {
          "size": 14
         },
         "textinfo": "label+percent+value",
         "type": "pie",
         "values": {
          "_inputArray": {
           "0": 360187,
           "1": 405692,
           "bdata": "AAAAAOz7FUEAAAAA8MIYQQ==",
           "dtype": "f8",
           "shape": "2"
          },
          "bdata": "AAAAAOz7FUEAAAAA8MIYQQ==",
          "dtype": "f8"
         }
        }
       ],
       "layout": {
        "height": 500,
        "legend": {
         "tracegroupgap": 0
        },
        "paper_bgcolor": "rgb(0, 0, 0)",
        "piecolorway": [
         "#1f77b4",
         "#FFD700"
        ],
        "plot_bgcolor": "rgb(0, 0, 0)",
        "template": {
         "data": {
          "pie": [
           {
            "automargin": true,
            "type": "pie"
           }
          ],
          "scatter": [
           {
            "line": {
             "width": 3
            },
            "marker": {
             "size": 9
            },
            "type": "scatter"
           }
          ],
          "scatter3d": [
           {
            "line": {
             "width": 3
            },
            "marker": {
             "size": 9
            },
            "type": "scatter3d"
           }
          ],
          "scattergeo": [
           {
            "line": {
             "width": 3
            },
            "marker": {
             "size": 9
            },
            "type": "scattergeo"
           }
          ],
          "scattergl": [
           {
            "line": {
             "width": 3
            },
            "marker": {
             "size": 9
            },
            "type": "scattergl"
           }
          ],
          "scatterpolar": [
           {
            "line": {
             "width": 3
            },
            "marker": {
             "size": 9
            },
            "type": "scatterpolar"
           }
          ],
          "scatterpolargl": [
           {
            "line": {
             "width": 3
            },
            "marker": {
             "size": 9
            },
            "type": "scatterpolargl"
           }
          ],
          "scatterternary": [
           {
            "line": {
             "width": 3
            },
            "marker": {
             "size": 9
            },
            "type": "scatterternary"
           }
          ],
          "table": [
           {
            "cells": {
             "height": 30
            },
            "header": {
             "height": 36
            },
            "type": "table"
           }
          ]
         },
         "layout": {
          "font": {
           "size": 18
          },
          "xaxis": {
           "title": {
            "standoff": 15
           }
          },
          "yaxis": {
           "title": {
            "standoff": 15
           }
          }
         }
        },
        "title": {
         "text": "Units Sold by Gender"
        },
        "width": 700
       }
      },
      "image/png": "[encoded data removed]"
     },
     "metadata": {},
     "output_type": "display_data"
    }
   ],
   "source": [
    "# Group and sum sold units by gender\n",
    "gender_sold = combined_df.groupby('gender')['sold'].sum().reset_index()\n",
    "\n",
    "# Create pie chart\n",
    "fig4 = px.pie(\n",
    "    gender_sold,\n",
    "    names='gender',\n",
    "    values='sold',\n",
    "    title='Units Sold by Gender',\n",
    "    color='gender',\n",
    "    color_discrete_sequence=['#1f77b4', '#FFD700']\n",
    ")\n",
    "\n",
    "# Update layout: dark theme, fixed size\n",
    "fig4.update_layout(\n",
    "    template='presentation',\n",
    "    paper_bgcolor='rgb(0, 0, 0)',\n",
    "    plot_bgcolor='rgb(0, 0, 0)',\n",
    "    height=500,\n",
    "    width=700\n",
    ")\n",
    "\n",
    "# Optional: show label + percent + value\n",
    "fig4.update_traces(textinfo='label+percent+value', textfont_size=14)\n",
    "\n",
    "# Show figure\n",
    "fig4.show()\n",
    "\n",
    "# Optional: Save chart\n",
    "# results_dir = r\"C:\\Users\\USER\\Downloads\\Perfume_E-Commerce\\result\"\n",
    "os.makedirs(results_dir, exist_ok=True)\n",
    "\n",
    "fig4.write_image(os.path.join(results_dir, 'units_sold_by_gender.jpg'))\n",
    "fig4.write_image(os.path.join(results_dir, 'units_sold_by_gender.png'))\n",
    "fig4.write_html(os.path.join(results_dir, 'units_sold_by_gender.html'))\n"
   ]
  },
  {
   "cell_type": "markdown",
   "id": "ae6a9b88-7236-4fad-93e1-da5eec06b083",
   "metadata": {},
   "source": [
    "## Compare Top 10 Brands by Units Sold: Men vs. Women\n",
    "\n",
    "We create a grouped bar chart to compare the top 10 perfume brands by total units sold, broken down by gender.\n",
    "\n",
    "Key considerations here are:\n",
    "\n",
    "* **Data Aggregation**:\n",
    "\n",
    "  * First, we group and sum units sold by both `brand_cleaned` and `gender`.\n",
    "  * Then, we calculate total units sold per brand to identify the overall top 10 brands.\n",
    "\n",
    "* **Filtering for Top Brands**:\n",
    "\n",
    "  * We select only the sales data for these top 10 brands, ensuring that both men’s and women’s sales are represented.\n",
    "\n",
    "* **Maintain Brand Order**:\n",
    "\n",
    "  * We convert the `brand_cleaned` column to a categorical type with a specified order to preserve descending order on the x-axis.\n",
    "\n",
    "* **Formatted Labels**:\n",
    "\n",
    "  * `sold_text` is created to display values with thousand separators for clearer labeling on the chart.\n",
    "\n",
    "* **Grouped Bar Chart Visualization**:\n",
    "\n",
    "  * We use `plotly.express.bar()` to generate a grouped bar chart:\n",
    "\n",
    "    * Bars are grouped by brand and color-coded by gender.\n",
    "    * Custom labels and titles are applied for clarity.\n",
    "    * A consistent color scheme is used (`#1f77b4` for one gender and `#FFD700` for the other).\n",
    "\n",
    "* **Layout and Design**:\n",
    "\n",
    "  * The chart uses a dark theme and is sized for wide-format presentation.\n",
    "  * Text labels are positioned outside bars for visibility, and y-axis tick marks are hidden for a cleaner look.\n",
    "  * The legend helps distinguish between gender groups, supporting comparative analysis.\n",
    "\n",
    "* **Exporting the Chart**:\n",
    "\n",
    "  * The visualization is exported in `.jpg`, `.png`, and interactive `.html` formats, making it usable in various reporting contexts.\n",
    "\n",
    "This chart provides a gender-based sales comparison for the top 10 brands, offering insights into consumer preferences and potential market segmentation opportunities.\n"
   ]
  },
  {
   "cell_type": "code",
   "execution_count": 16,
   "id": "dcbefffd-cbdf-4eb3-a274-78f186b637b1",
   "metadata": {},
   "outputs": [
    {
     "name": "stderr",
     "output_type": "stream",
     "text": [
      "C:\\Users\\USER\\AppData\\Local\\Temp\\ipykernel_9880\\3360552871.py:14: SettingWithCopyWarning:\n",
      "\n",
      "\n",
      "A value is trying to be set on a copy of a slice from a DataFrame.\n",
      "Try using .loc[row_indexer,col_indexer] = value instead\n",
      "\n",
      "See the caveats in the documentation: https://pandas.pydata.org/pandas-docs/stable/user_guide/indexing.html#returning-a-view-versus-a-copy\n",
      "\n",
      "C:\\Users\\USER\\AppData\\Local\\Temp\\ipykernel_9880\\3360552871.py:17: SettingWithCopyWarning:\n",
      "\n",
      "\n",
      "A value is trying to be set on a copy of a slice from a DataFrame.\n",
      "Try using .loc[row_indexer,col_indexer] = value instead\n",
      "\n",
      "See the caveats in the documentation: https://pandas.pydata.org/pandas-docs/stable/user_guide/indexing.html#returning-a-view-versus-a-copy\n",
      "\n"
     ]
    },
    {
     "data": {
      "application/vnd.plotly.v1+json": {
       "config": {
        "plotlyServerURL": "https://plot.ly"
       },
       "data": [
        {
         "alignmentgroup": "True",
         "hovertemplate": "Gender=female<br>Brand=%{x}<br>Units Sold=%{y}<br>sold_text=%{text}<extra></extra>",
         "legendgroup": "female",
         "marker": {
          "color": "#1f77b4",
          "pattern": {
           "shape": ""
          }
         },
         "name": "female",
         "offsetgroup": "female",
         "orientation": "v",
         "showlegend": true,
         "text": [
          "2,838.0",
          "5,880.0",
          "17,181.0",
          "2,491.0",
          "4,892.0",
          "12,349.0",
          "1,927.0",
          "1,071.0",
          "22,092.0"
         ],
         "textfont": {
          "size": 14
         },
         "textposition": "outside",
         "type": "bar",
         "x": [
          "Armaf",
          "Burberry",
          "Calvin Klein",
          "Carolina Herrera",
          "Coach",
          "Juicy Couture",
          "Paco Rabanne",
          "Ralph Lauren",
          "Versace"
         ],
         "xaxis": "x",
         "y": {
          "_inputArray": {
           "0": 2838,
           "1": 5880,
           "2": 17181,
           "3": 2491,
           "4": 4892,
           "5": 12349,
           "6": 1927,
           "7": 1071,
           "8": 22092,
           "bdata": "AAAAAAAspkAAAAAAAPi2QAAAAABAx9BAAAAAAAB2o0AAAAAAAByzQAAAAACAHshAAAAAAAAcnkAAAAAAALyQQAAAAAAAk9VA",
           "dtype": "f8",
           "shape": "9"
          },
          "bdata": "AAAAAAAspkAAAAAAAPi2QAAAAABAx9BAAAAAAAB2o0AAAAAAAByzQAAAAACAHshAAAAAAAAcnkAAAAAAALyQQAAAAAAAk9VA",
          "dtype": "f8"
         },
         "yaxis": "y"
        },
        {
         "alignmentgroup": "True",
         "hovertemplate": "Gender=male<br>Brand=%{x}<br>Units Sold=%{y}<br>sold_text=%{text}<extra></extra>",
         "legendgroup": "male",
         "marker": {
          "color": "#FFD700",
          "pattern": {
           "shape": ""
          }
         },
         "name": "male",
         "offsetgroup": "male",
         "orientation": "v",
         "showlegend": true,
         "text": [
          "17,156.0",
          "19,286.0",
          "8,505.0",
          "10,575.0",
          "8,170.0",
          "541.0",
          "11,410.0",
          "21,044.0",
          "151,522.0",
          "46,296.0"
         ],
         "textfont": {
          "size": 14
         },
         "textposition": "outside",
         "type": "bar",
         "x": [
          "Armaf",
          "Burberry",
          "Calvin Klein",
          "Carolina Herrera",
          "Coach",
          "Juicy Couture",
          "Paco Rabanne",
          "Ralph Lauren",
          "Unbranded",
          "Versace"
         ],
         "xaxis": "x",
         "y": {
          "_inputArray": {
           "0": 17156,
           "1": 19286,
           "2": 8505,
           "3": 10575,
           "4": 8170,
           "5": 541,
           "6": 11410,
           "7": 21044,
           "8": 151522,
           "9": 46296,
           "bdata": "AAAAAADB0EAAAAAAgNXSQAAAAACAnMBAAAAAAICnxEAAAAAAAOq/QAAAAAAA6IBAAAAAAABJxkAAAAAAAI3UQAAAAAAQfwJBAAAAAACb5kA=",
           "dtype": "f8",
           "shape": "10"
          },
          "bdata": "AAAAAADB0EAAAAAAgNXSQAAAAACAnMBAAAAAAICnxEAAAAAAAOq/QAAAAAAA6IBAAAAAAABJxkAAAAAAAI3UQAAAAAAQfwJBAAAAAACb5kA=",
          "dtype": "f8"
         },
         "yaxis": "y"
        }
       ],
       "layout": {
        "barmode": "group",
        "height": 600,
        "legend": {
         "title": {
          "text": "Gender"
         },
         "tracegroupgap": 0
        },
        "margin": {
         "t": 100
        },
        "paper_bgcolor": "rgb(0, 0, 0)",
        "plot_bgcolor": "rgb(0, 0, 0)",
        "template": {
         "data": {
          "pie": [
           {
            "automargin": true,
            "type": "pie"
           }
          ],
          "scatter": [
           {
            "line": {
             "width": 3
            },
            "marker": {
             "size": 9
            },
            "type": "scatter"
           }
          ],
          "scatter3d": [
           {
            "line": {
             "width": 3
            },
            "marker": {
             "size": 9
            },
            "type": "scatter3d"
           }
          ],
          "scattergeo": [
           {
            "line": {
             "width": 3
            },
            "marker": {
             "size": 9
            },
            "type": "scattergeo"
           }
          ],
          "scattergl": [
           {
            "line": {
             "width": 3
            },
            "marker": {
             "size": 9
            },
            "type": "scattergl"
           }
          ],
          "scatterpolar": [
           {
            "line": {
             "width": 3
            },
            "marker": {
             "size": 9
            },
            "type": "scatterpolar"
           }
          ],
          "scatterpolargl": [
           {
            "line": {
             "width": 3
            },
            "marker": {
             "size": 9
            },
            "type": "scatterpolargl"
           }
          ],
          "scatterternary": [
           {
            "line": {
             "width": 3
            },
            "marker": {
             "size": 9
            },
            "type": "scatterternary"
           }
          ],
          "table": [
           {
            "cells": {
             "height": 30
            },
            "header": {
             "height": 36
            },
            "type": "table"
           }
          ]
         },
         "layout": {
          "font": {
           "size": 18
          },
          "xaxis": {
           "title": {
            "standoff": 15
           }
          },
          "yaxis": {
           "title": {
            "standoff": 15
           }
          }
         }
        },
        "title": {
         "text": "Top 10 Brands by Units Sold: Men vs Women"
        },
        "width": 1500,
        "xaxis": {
         "anchor": "y",
         "autorange": true,
         "domain": [
          0,
          1
         ],
         "range": [
          -0.5,
          9.5
         ],
         "tickangle": 0,
         "title": {
          "text": "Brand"
         },
         "type": "category"
        },
        "yaxis": {
         "anchor": "x",
         "autorange": true,
         "domain": [
          0,
          1
         ],
         "range": [
          0,
          159496.84210526315
         ],
         "showticklabels": false,
         "title": {
          "text": "Units Sold"
         },
         "type": "linear"
        }
       }
      },
      "image/png": "[encoded data removed]"
     },
     "metadata": {},
     "output_type": "display_data"
    }
   ],
   "source": [
    "# 1. Group and sum units sold by brand and gender\n",
    "sold_by_brand_gender = combined_df.groupby(['brand_cleaned', 'gender'])['sold'].sum().reset_index()\n",
    "\n",
    "# 2. Total units sold by brand (to get top brands)\n",
    "total_sold_by_brand = sold_by_brand_gender.groupby('brand_cleaned')['sold'].sum().reset_index()\n",
    "\n",
    "# 3. Select top 10 brands by total sold\n",
    "top10_brands = total_sold_by_brand.sort_values(by='sold', ascending=False).head(10)['brand_cleaned']\n",
    "\n",
    "# 4. Filter original grouped data for these top 10 brands only\n",
    "sold_top10 = sold_by_brand_gender[sold_by_brand_gender['brand_cleaned'].isin(top10_brands)]\n",
    "\n",
    "# 5. Set categorical order for x-axis to keep bars in descending order\n",
    "sold_top10['brand_cleaned'] = pd.Categorical(sold_top10['brand_cleaned'], categories=top10_brands, ordered=True)\n",
    "\n",
    "# 6. Add formatted text labels with thousand separators\n",
    "sold_top10['sold_text'] = sold_top10['sold'].apply(lambda x: f\"{x:,}\")\n",
    "\n",
    "# 7. Create grouped bar chart comparing men and women\n",
    "fig = px.bar(\n",
    "    sold_top10,\n",
    "    x='brand_cleaned',\n",
    "    y='sold',\n",
    "    color='gender',\n",
    "    barmode='group',\n",
    "    text='sold_text',\n",
    "    title='Top 10 Brands by Units Sold: Men vs Women',\n",
    "    labels={\n",
    "        'brand_cleaned': 'Brand',\n",
    "        'sold': 'Units Sold',\n",
    "        'gender': 'Gender'\n",
    "    },\n",
    "    color_discrete_sequence=['#1f77b4', '#FFD700']\n",
    ")\n",
    "\n",
    "# 8. Customize labels and layout\n",
    "fig.update_traces(textposition='outside', textfont_size=14)\n",
    "\n",
    "fig.update_yaxes(showticklabels=False, title_text='Units Sold')\n",
    "\n",
    "fig.update_layout(\n",
    "    template='presentation',\n",
    "    paper_bgcolor='rgb(0, 0, 0)',\n",
    "    plot_bgcolor='rgb(0, 0, 0)',\n",
    "    xaxis_tickangle=0,\n",
    "    height=600,\n",
    "    width=1500,\n",
    "    margin=dict(t=100),\n",
    "    legend_title_text='Gender'\n",
    ")\n",
    "\n",
    "fig.show()\n",
    "\n",
    "# Export chart to JPG and PNG images\n",
    "fig.write_image(os.path.join(results_dir, 'top10_brands_units_sold_men_vs_women.jpg'))\n",
    "fig.write_image(os.path.join(results_dir, 'top10_brands_units_sold_men_vs_women.png'))\n",
    "\n",
    "# Export interactive HTML version\n",
    "fig.write_html(os.path.join(results_dir, 'top10_brands_units_sold_men_vs_women.html'))"
   ]
  },
  {
   "cell_type": "code",
   "execution_count": null,
   "id": "f003fbb3-a7bb-4cf5-b739-d8ac029543c5",
   "metadata": {},
   "outputs": [],
   "source": []
  }
 ],
 "metadata": {
  "kernelspec": {
   "display_name": "Python [conda env:base] *",
   "language": "python",
   "name": "conda-base-py"
  },
  "language_info": {
   "codemirror_mode": {
    "name": "ipython",
    "version": 3
   },
   "file_extension": ".py",
   "mimetype": "text/x-python",
   "name": "python",
   "nbconvert_exporter": "python",
   "pygments_lexer": "ipython3",
   "version": "3.12.4"
  }
 },
 "nbformat": 4,
 "nbformat_minor": 5
}
